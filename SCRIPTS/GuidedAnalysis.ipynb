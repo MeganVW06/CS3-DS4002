{
 "cells": [
  {
   "cell_type": "code",
   "execution_count": null,
   "metadata": {},
   "outputs": [],
   "source": [
    "#Welcome to your Case Study! \n",
    "#The goal is to find, if any, differences between winter and summer variations in natural gas prices during extreme weather events\n",
    "\n",
    "#Below, you will find a list of important libraries that might be helpful for you to import\n",
    "\n",
    "import numpy as np\n",
    "import pandas as pd\n",
    "import matplotlib.pyplot as plt\n",
    "import seaborn as sns\n",
    "import matplotlib.lines as mlines\n",
    "from scipy.stats import ttest_ind\n",
    "import sklearn\n",
    "from sklearn.metrics import r2_score, mean_squared_error\n",
    "from sklearn.linear_model import LinearRegression\n",
    "from sklearn.model_selection import train_test_split\n",
    "import matplotlib.dates as mdates"
   ]
  },
  {
   "cell_type": "code",
   "execution_count": null,
   "metadata": {},
   "outputs": [],
   "source": [
    "#Now it is time to import the data. Make sure to download it from the GitHub page first\n",
    "\n",
    "#weather_data = pd.read_csv('UPDATE TO MATCH YOUR FILE PATH HERE/noaa_chicago_weather_basic_1960-now.csv')\n",
    "\n",
    "#gas_data = pd.read_excel(UPDATE TO MATCH YOUR FILE PATH HERE/Chicago_Citygate_Daily.xlsx')"
   ]
  },
  {
   "cell_type": "code",
   "execution_count": null,
   "metadata": {},
   "outputs": [],
   "source": [
    "#It might be a good idea to combine the two data sets you have\n",
    "#Hint: the pd.merge function is extremely useful\n",
    "\n"
   ]
  },
  {
   "cell_type": "code",
   "execution_count": null,
   "metadata": {},
   "outputs": [],
   "source": [
    "#Create a filter to sperate data into winter and summer months. A function might be of use here!"
   ]
  },
  {
   "cell_type": "code",
   "execution_count": null,
   "metadata": {},
   "outputs": [],
   "source": [
    "#Explore the variation in temperatre and price by creating a few histograms to get a sense of what is considered \"normal\""
   ]
  },
  {
   "cell_type": "code",
   "execution_count": null,
   "metadata": {},
   "outputs": [],
   "source": [
    "#Now you can use your creativity. Decide what you want to use to find an \"exreme event.\" This would just be the highest and lowest days of temperature, the highest sum over a persiod of days, or any other system.\n",
    "#Save these dates, and create 2 new dataframes (summer extremes and winter extremes)\n",
    "#Here is an example of how to filter these days out:\n",
    "\n",
    "#Pick out dates\n",
    "dates = pd.to_datetime([\n",
    "    'ENTERDATE', 'ENTERDATE', 'ENTERDATE', 'ENTERDATE'\n",
    "])\n",
    "\n",
    "# Filter the dataframe for extreme weather dates\n",
    "EXTREME DATA SET = ALL DATA SET[ALL DATA SET['DATE'].isin(dates)]"
   ]
  },
  {
   "cell_type": "code",
   "execution_count": null,
   "metadata": {},
   "outputs": [],
   "source": [
    "#Use signifigance testing (t-test) to determine if the temperatures and prices in the extremes are signifigantly different than the norms."
   ]
  },
  {
   "cell_type": "code",
   "execution_count": null,
   "metadata": {},
   "outputs": [],
   "source": [
    "#Use linear regression to determine if there is a relationship between temperature and price for either season, year round, or for the extremes"
   ]
  },
  {
   "cell_type": "code",
   "execution_count": null,
   "metadata": {},
   "outputs": [],
   "source": [
    "#It may be helpful to see how prices vary over the span of a week during an extreme event. Filter out the data from the week an event occurs, and use time series analysis to see the cahgne in price.\n",
    "#Is there a difference between how much summer and winter prices vary? "
   ]
  },
  {
   "cell_type": "code",
   "execution_count": null,
   "metadata": {},
   "outputs": [],
   "source": [
    "#Continue to use creative data analysis techniques to determine if summer prices react to extreme weather events the same way that winter prices do."
   ]
  }
 ],
 "metadata": {
  "kernelspec": {
   "display_name": "Python 3",
   "language": "python",
   "name": "python3"
  },
  "language_info": {
   "name": "python",
   "version": "3.9.6"
  }
 },
 "nbformat": 4,
 "nbformat_minor": 2
}
